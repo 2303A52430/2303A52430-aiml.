{
  "nbformat": 4,
  "nbformat_minor": 0,
  "metadata": {
    "colab": {
      "provenance": [],
      "authorship_tag": "ABX9TyOqGRrDtIvX3J8apWVWVy76",
      "include_colab_link": true
    },
    "kernelspec": {
      "name": "python3",
      "display_name": "Python 3"
    },
    "language_info": {
      "name": "python"
    }
  },
  "cells": [
    {
      "cell_type": "markdown",
      "metadata": {
        "id": "view-in-github",
        "colab_type": "text"
      },
      "source": [
        "<a href=\"https://colab.research.google.com/github/2303A52430/2303A52430-aiml./blob/main/ai_code.ipynb\" target=\"_parent\"><img src=\"https://colab.research.google.com/assets/colab-badge.svg\" alt=\"Open In Colab\"/></a>"
      ]
    },
    {
      "cell_type": "code",
      "execution_count": 1,
      "metadata": {
        "colab": {
          "base_uri": "https://localhost:8080/"
        },
        "id": "btW0yXxnx6_U",
        "outputId": "14fb3167-96c4-41f9-95b2-5d251c864744"
      },
      "outputs": [
        {
          "output_type": "stream",
          "name": "stdout",
          "text": [
            "Recommended Internship Domain: AI\n"
          ]
        }
      ],
      "source": [
        "from sklearn.feature_extraction.text import TfidfVectorizer\n",
        "from sklearn.metrics.pairwise import cosine_similarity\n",
        "\n",
        "domains = {\n",
        "    \"AI\": \"Work on machine learning, deep learning, and NLP projects.\",\n",
        "    \"Web Development\": \"Build responsive websites using HTML, CSS, JS, and frameworks.\",\n",
        "    \"Cybersecurity\": \"Explore penetration testing, ethical hacking, and network security.\",\n",
        "    \"Data Science\": \"Analyze data using Python, Pandas, and visualization libraries.\"\n",
        "}\n",
        "\n",
        "student_profile = \"I like building models using machine learning and analyzing data.\"\n",
        "\n",
        "vectorizer = TfidfVectorizer()\n",
        "all_texts = [student_profile] + list(domains.values())\n",
        "tfidf_matrix = vectorizer.fit_transform(all_texts)\n",
        "\n",
        "similarities = cosine_similarity(tfidf_matrix[0:1], tfidf_matrix[1:]).flatten()\n",
        "\n",
        "best_match_index = similarities.argmax()\n",
        "recommended_domain = list(domains.keys())[best_match_index]\n",
        "\n",
        "print(\"Recommended Internship Domain:\", recommended_domain)"
      ]
    }
  ]
}