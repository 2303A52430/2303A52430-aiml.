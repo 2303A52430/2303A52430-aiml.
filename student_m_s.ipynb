{
  "nbformat": 4,
  "nbformat_minor": 0,
  "metadata": {
    "colab": {
      "provenance": [],
      "authorship_tag": "ABX9TyOERJsqyfWuLrf+ot9Ib6nk",
      "include_colab_link": true
    },
    "kernelspec": {
      "name": "python3",
      "display_name": "Python 3"
    },
    "language_info": {
      "name": "python"
    }
  },
  "cells": [
    {
      "cell_type": "markdown",
      "metadata": {
        "id": "view-in-github",
        "colab_type": "text"
      },
      "source": [
        "<a href=\"https://colab.research.google.com/github/2303A52430/2303A52430-aiml./blob/main/student_m_s.ipynb\" target=\"_parent\"><img src=\"https://colab.research.google.com/assets/colab-badge.svg\" alt=\"Open In Colab\"/></a>"
      ]
    },
    {
      "cell_type": "code",
      "execution_count": 1,
      "metadata": {
        "id": "-WVXobsCv9--"
      },
      "outputs": [],
      "source": [
        "students = {}\n",
        "\n",
        "def add_student():\n",
        "    roll = input(\"Enter roll number: \")\n",
        "    name = input(\"Enter name: \")\n",
        "    grade = input(\"Enter grade: \")\n",
        "    students[roll] = {\"name\": name, \"grade\": grade}\n",
        "    print(\"Student added successfully!\\n\")\n",
        "def view_students():\n",
        "    for roll, info in students.items():\n",
        "        print(f\"Roll: {roll}, Name: {info['name']}, Grade: {info['grade']}\")"
      ]
    },
    {
      "cell_type": "code",
      "source": [
        "def update_student():\n",
        "    roll = input(\"Enter roll to update: \")\n",
        "    if roll in students:\n",
        "        name = input(\"New name: \")\n",
        "        grade = input(\"New grade: \")\n",
        "        students[roll] = {\"name\": name, \"grade\": grade}\n",
        "        print(\"Updated successfully!\\n\")\n",
        "    else:\n",
        "        print(\"Student not found!\\n\")\n",
        "\n",
        "def delete_student():\n",
        "    roll = input(\"Enter roll to delete: \")\n",
        "    if roll in students:\n",
        "        del students[roll]\n",
        "        print(\"Deleted successfully!\\n\")\n",
        "    else:\n",
        "        print(\"Student not found!\\n\")"
      ],
      "metadata": {
        "id": "h2ra02fuwpOg"
      },
      "execution_count": 2,
      "outputs": []
    }
  ]
}